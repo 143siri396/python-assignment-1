{
 "cells": [
  {
   "cell_type": "code",
   "execution_count": 5,
   "id": "7fcb9a9f",
   "metadata": {},
   "outputs": [
    {
     "name": "stdout",
     "output_type": "stream",
     "text": [
      "(10, 20, 30)\n",
      "(40, 50, 60)\n"
     ]
    }
   ],
   "source": [
    "#1st query\n",
    "#creating tuples\n",
    "#tuple-1\n",
    "tuple_1=(10,20,30)\n",
    "print(tuple_1)\n",
    "#tuple-2\n",
    "tuple_2=(40,50,60)\n",
    "print(tuple_2)"
   ]
  },
  {
   "cell_type": "code",
   "execution_count": 6,
   "id": "aa2aeb5a",
   "metadata": {},
   "outputs": [
    {
     "name": "stdout",
     "output_type": "stream",
     "text": [
      "(10, 20, 30, 40, 50, 60)\n"
     ]
    }
   ],
   "source": [
    "#a.concatenate 2 tuples & store in \"t_combine\"\n",
    "t_combine=tuple_1+tuple_2\n",
    "print(t_combine)"
   ]
  },
  {
   "cell_type": "code",
   "execution_count": 7,
   "id": "fd987bd3",
   "metadata": {},
   "outputs": [
    {
     "name": "stdout",
     "output_type": "stream",
     "text": [
      "(10, 20, 30, 40, 50, 60, 10, 20, 30, 40, 50, 60, 10, 20, 30, 40, 50, 60)\n"
     ]
    }
   ],
   "source": [
    "#b.repeat the elements of \"t_combine\" 3 times\n",
    "print(t_combine*3)"
   ]
  },
  {
   "cell_type": "code",
   "execution_count": 8,
   "id": "c50eab33",
   "metadata": {},
   "outputs": [
    {
     "name": "stdout",
     "output_type": "stream",
     "text": [
      "30\n"
     ]
    }
   ],
   "source": [
    "#c.access the 3rd element from \"t_combine\"\n",
    "print(t_combine[2])"
   ]
  },
  {
   "cell_type": "code",
   "execution_count": 9,
   "id": "eba2e1bf",
   "metadata": {},
   "outputs": [
    {
     "name": "stdout",
     "output_type": "stream",
     "text": [
      "(10, 20, 30)\n"
     ]
    }
   ],
   "source": [
    "#d.access first three elements from \"t_combine\"\n",
    "print(t_combine[:3])"
   ]
  },
  {
   "cell_type": "code",
   "execution_count": 11,
   "id": "766b1161",
   "metadata": {},
   "outputs": [
    {
     "name": "stdout",
     "output_type": "stream",
     "text": [
      "(40, 50, 60)\n"
     ]
    }
   ],
   "source": [
    "#e.access last three elements from \"t_combine\"\n",
    "print(t_combine[-3:])"
   ]
  },
  {
   "cell_type": "code",
   "execution_count": 13,
   "id": "8da54bca",
   "metadata": {},
   "outputs": [
    {
     "name": "stdout",
     "output_type": "stream",
     "text": [
      "[(1, 2, 3), ('a', 'b', 'c'), (True, False)]\n"
     ]
    }
   ],
   "source": [
    "#2.create list \"my_list\" \n",
    "my_list=[(1,2,3),(\"a\",\"b\",\"c\"),(True,False)]\n",
    "print(my_list)"
   ]
  },
  {
   "cell_type": "code",
   "execution_count": 20,
   "id": "d2a91710",
   "metadata": {},
   "outputs": [
    {
     "name": "stdout",
     "output_type": "stream",
     "text": [
      "None\n",
      "[(1, 2, 3), ('a', 'b', 'c'), (True, False), (1, 'a', True), [(1, 'a', True)], (1, 'a', True)]\n"
     ]
    }
   ],
   "source": [
    "#3.append a new tuple to \"my_list\"\n",
    "my_list.append((1,\"a\",True))\n",
    "print(my_list)"
   ]
  },
  {
   "cell_type": "code",
   "execution_count": 23,
   "id": "762b6769",
   "metadata": {},
   "outputs": [
    {
     "name": "stdout",
     "output_type": "stream",
     "text": [
      "[(1, 2, 3), ('a', 'b', 'c'), (True, False), (1, 'a', True), [(1, 'a', True)], (1, 'a', True), ['sparta', 123]]\n"
     ]
    }
   ],
   "source": [
    "#a.append a new list- *\"sparta\",123+to my_list\n",
    "my_list.append([\"sparta\",123])\n",
    "print(my_list)"
   ]
  },
  {
   "cell_type": "code",
   "execution_count": 27,
   "id": "cdf712c8",
   "metadata": {},
   "outputs": [
    {
     "name": "stdout",
     "output_type": "stream",
     "text": [
      "{'Fruit': ('apple', 'banana', 'mango', 'guava'), 'cost': (85, 54, 120, 70)}\n"
     ]
    }
   ],
   "source": [
    "#4.create a dictionary \n",
    "fruit={\n",
    "    \"Fruit\":(\"apple\",\"banana\",\"mango\",\"guava\"),\n",
    "    \"cost\":(85,54,120,70)\n",
    "    }\n",
    "print(fruit)"
   ]
  },
  {
   "cell_type": "code",
   "execution_count": 28,
   "id": "75dff723",
   "metadata": {},
   "outputs": [
    {
     "name": "stdout",
     "output_type": "stream",
     "text": [
      "dict_keys(['Fruit', 'cost'])\n"
     ]
    }
   ],
   "source": [
    "print(fruit.keys())"
   ]
  },
  {
   "cell_type": "code",
   "execution_count": 30,
   "id": "88ea51e4",
   "metadata": {},
   "outputs": [
    {
     "name": "stdout",
     "output_type": "stream",
     "text": [
      "dict_values([('apple', 'banana', 'mango', 'guava'), (85, 54, 120, 70)])\n"
     ]
    }
   ],
   "source": [
    "print(fruit.values())"
   ]
  },
  {
   "cell_type": "code",
   "execution_count": 31,
   "id": "073b8abe",
   "metadata": {},
   "outputs": [
    {
     "name": "stdout",
     "output_type": "stream",
     "text": [
      "{1, 'a'}\n"
     ]
    }
   ],
   "source": [
    "#5.create a set\n",
    "my_set={1,1,\"a\",\"a\",True,True}\n",
    "print(my_set)"
   ]
  }
 ],
 "metadata": {
  "kernelspec": {
   "display_name": "Python 3 (ipykernel)",
   "language": "python",
   "name": "python3"
  },
  "language_info": {
   "codemirror_mode": {
    "name": "ipython",
    "version": 3
   },
   "file_extension": ".py",
   "mimetype": "text/x-python",
   "name": "python",
   "nbconvert_exporter": "python",
   "pygments_lexer": "ipython3",
   "version": "3.11.5"
  }
 },
 "nbformat": 4,
 "nbformat_minor": 5
}
